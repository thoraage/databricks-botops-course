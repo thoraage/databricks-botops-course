{
 "cells": [
  {
   "cell_type": "markdown",
   "metadata": {
    "application/vnd.databricks.v1+cell": {
     "cellMetadata": {
      "byteLimit": 2048000,
      "rowLimit": 10000
     },
     "inputWidgets": {},
     "nuid": "fbd541d7-11cb-4c48-85b4-85349f57c488",
     "showTitle": false,
     "tableResultSettingsMap": {},
     "title": ""
    }
   },
   "source": [
    "# Deploy the bot in test mode\n",
    "\n",
    "Run this notebook on the serverless cluster.\n",
    "\n",
    "Select Serverless environment v3, from the settings button on the right side menu.\n",
    "\n",
    "![Serverless env](https://raw.githubusercontent.com/brickops/databricks-botops-course/refs/heads/main/images/serverless_env_wide.png)."
   ]
  },
  {
   "cell_type": "markdown",
   "metadata": {
    "application/vnd.databricks.v1+cell": {
     "cellMetadata": {
      "byteLimit": 2048000,
      "rowLimit": 10000
     },
     "inputWidgets": {},
     "nuid": "833e9a97-ded6-4ff8-a544-6b0b850ce023",
     "showTitle": false,
     "tableResultSettingsMap": {},
     "title": ""
    }
   },
   "source": [
    "## Pre-deployment agent validation\n",
    "Before registering and deploying the agent, perform pre-deployment checks using the [mlflow.models.predict()](https://mlflow.org/docs/latest/python_api/mlflow.models.html#mlflow.models.predict) API. See Databricks documentation ([AWS](https://docs.databricks.com/en/machine-learning/model-serving/model-serving-debug.html#validate-inputs) | [Azure](https://learn.microsoft.com/en-us/azure/databricks/machine-learning/model-serving/model-serving-debug#before-model-deployment-validation-checks))."
   ]
  },
  {
   "cell_type": "markdown",
   "metadata": {
    "application/vnd.databricks.v1+cell": {
     "cellMetadata": {
      "byteLimit": 2048000,
      "rowLimit": 10000
     },
     "inputWidgets": {},
     "nuid": "157ec119-d7d1-4904-8bca-9c95d4d1fb97",
     "showTitle": false,
     "tableResultSettingsMap": {},
     "title": ""
    }
   },
   "source": [
    "#### Common setup\n",
    "\n",
    "You can ignore the message `Core Python package version(s) changed`"
   ]
  },
  {
   "cell_type": "code",
   "execution_count": 0,
   "metadata": {
    "application/vnd.databricks.v1+cell": {
     "cellMetadata": {
      "byteLimit": 2048000,
      "rowLimit": 10000
     },
     "inputWidgets": {},
     "nuid": "fae28657-ed8d-4794-978d-e16bbfdc77a0",
     "showTitle": false,
     "tableResultSettingsMap": {},
     "title": ""
    }
   },
   "outputs": [],
   "source": [
    "%run ../../../libs/botops/buildsetup_serverless"
   ]
  },
  {
   "cell_type": "markdown",
   "metadata": {
    "application/vnd.databricks.v1+cell": {
     "cellMetadata": {
      "byteLimit": 2048000,
      "rowLimit": 10000
     },
     "inputWidgets": {},
     "nuid": "7d91715b-0c11-494c-8136-c374a84f5df3",
     "showTitle": false,
     "tableResultSettingsMap": {},
     "title": ""
    }
   },
   "source": [
    "#### Set the bot name\n",
    "\n",
    "Set bot name to the name of the current folder"
   ]
  },
  {
   "cell_type": "code",
   "execution_count": 0,
   "metadata": {
    "application/vnd.databricks.v1+cell": {
     "cellMetadata": {
      "byteLimit": 2048000,
      "rowLimit": 10000
     },
     "inputWidgets": {},
     "nuid": "10c0929e-d1f4-4330-a61b-a0a0490734d7",
     "showTitle": false,
     "tableResultSettingsMap": {},
     "title": ""
    }
   },
   "outputs": [],
   "source": [
    "BOT_NAME = folder()"
   ]
  },
  {
   "cell_type": "markdown",
   "metadata": {
    "application/vnd.databricks.v1+cell": {
     "cellMetadata": {
      "byteLimit": 2048000,
      "rowLimit": 10000
     },
     "inputWidgets": {},
     "nuid": "dd130932-13c8-4323-9754-09cf8535be8a",
     "showTitle": false,
     "tableResultSettingsMap": {},
     "title": ""
    }
   },
   "source": [
    "\n",
    "#### Task: Set the correct tripbot run id\n",
    "\n",
    "Replace run id with the id for the run where you logged the model"
   ]
  },
  {
   "cell_type": "code",
   "execution_count": 0,
   "metadata": {
    "application/vnd.databricks.v1+cell": {
     "cellMetadata": {
      "byteLimit": 2048000,
      "rowLimit": 10000
     },
     "inputWidgets": {},
     "nuid": "5f053b35-9f33-40c4-a6f8-66bdf1f80dfb",
     "showTitle": false,
     "tableResultSettingsMap": {},
     "title": ""
    }
   },
   "outputs": [],
   "source": [
<<<<<<< Updated upstream
    "# TRIPBOT_RUN_ID = \"123\"\n",
    "TRIPBOT_RUN_ID = \"3d8f0c3deafa48299b9db57c3a9e02ac\""
=======
    "TRIPBOT_RUN_ID = \"b7027f2a2e824a768e49ef26d960c372\""
>>>>>>> Stashed changes
   ]
  },
  {
   "cell_type": "markdown",
   "metadata": {
    "application/vnd.databricks.v1+cell": {
     "cellMetadata": {
      "byteLimit": 2048000,
      "rowLimit": 10000
     },
     "inputWidgets": {},
     "nuid": "45e264b6-1e49-48a0-b000-e09085d958e3",
     "showTitle": false,
     "tableResultSettingsMap": {},
     "title": ""
    }
   },
   "source": [
    "Run a single predict to check if model can run"
   ]
  },
  {
   "cell_type": "code",
   "execution_count": 0,
   "metadata": {
    "application/vnd.databricks.v1+cell": {
     "cellMetadata": {
      "byteLimit": 2048000,
      "rowLimit": 10000
     },
     "inputWidgets": {},
     "nuid": "a33bf2e1-d4f6-494b-a57d-94f8b1e17a60",
     "showTitle": false,
     "tableResultSettingsMap": {},
     "title": ""
    }
   },
   "outputs": [],
   "source": [
    "%sh pip list | grep mlflow"
   ]
  },
  {
   "cell_type": "code",
   "execution_count": 0,
   "metadata": {
    "application/vnd.databricks.v1+cell": {
     "cellMetadata": {
      "byteLimit": 2048000,
      "rowLimit": 10000
     },
     "inputWidgets": {},
     "nuid": "14f01550-4fbb-4026-816f-bcd42a34bd41",
     "showTitle": false,
     "tableResultSettingsMap": {},
     "title": ""
    }
   },
   "outputs": [],
   "source": [
    "mlflow.models.predict(\n",
    "    model_uri=f\"runs:/{TRIPBOT_RUN_ID}/{BOT_NAME}\",\n",
    "    input_data={\"messages\": [{\"role\": \"user\", \"content\": \"Hello!\"}]},\n",
    "    env_manager=\"uv\",\n",
    ")"
   ]
  },
  {
   "cell_type": "code",
   "execution_count": 0,
   "metadata": {
    "application/vnd.databricks.v1+cell": {
     "cellMetadata": {
      "byteLimit": 2048000,
      "rowLimit": 10000
     },
     "inputWidgets": {},
     "nuid": "ceeda1bf-2fd3-4e17-b522-47af4bc04b21",
     "showTitle": false,
     "tableResultSettingsMap": {},
     "title": ""
    }
   },
   "outputs": [],
   "source": [
    "# A borough question\n",
    "mlflow.models.predict(\n",
    "    model_uri=f\"runs:/{TRIPBOT_RUN_ID}/{BOT_NAME}\",\n",
    "    input_data={\"messages\": [{\"role\": \"user\", \"content\": \"Which borough has most traffic?\"}]},\n",
    "    env_manager=\"uv\",\n",
    ")"
   ]
  },
  {
   "cell_type": "markdown",
   "metadata": {
    "application/vnd.databricks.v1+cell": {
     "cellMetadata": {
      "byteLimit": 2048000,
      "rowLimit": 10000
     },
     "inputWidgets": {},
     "nuid": "9b00cd3d-b6e0-41f3-bf66-ea58ec2eab84",
     "showTitle": false,
     "tableResultSettingsMap": {},
     "title": ""
    }
   },
   "source": [
    "## Register the model to Unity Catalog\n",
    "\n",
    "Before you deploy the agent, you must register the agent to Unity Catalog.\n",
    "\n",
    "Unity catalog is Databricks universal resource registry, somewhat similar to a Data Warehouse Schema.\n",
    "\n",
    "We must the `catalog`, `schema`, and `model_name` below to register the MLflow model to Unity Catalog."
   ]
  },
  {
   "cell_type": "code",
   "execution_count": 0,
   "metadata": {
    "application/vnd.databricks.v1+cell": {
     "cellMetadata": {
      "byteLimit": 2048000,
      "rowLimit": 10000
     },
     "inputWidgets": {},
     "nuid": "43c3a5cb-0412-4e50-895f-33e28e61bd74",
     "showTitle": false,
     "tableResultSettingsMap": {},
     "title": ""
    }
   },
   "outputs": [],
   "source": [
    "# Name functions enables automatic env+user specific database naming\n",
    "from brickops.datamesh.naming import catname_from_path\n",
    "from brickops.datamesh.naming import dbname"
   ]
  },
  {
   "cell_type": "code",
   "execution_count": 0,
   "metadata": {
    "application/vnd.databricks.v1+cell": {
     "cellMetadata": {
      "byteLimit": 2048000,
      "rowLimit": 10000
     },
     "inputWidgets": {},
     "nuid": "d6f28325-d922-44fb-b023-3cb6fbc956a9",
     "showTitle": false,
     "tableResultSettingsMap": {},
     "title": ""
    }
   },
   "outputs": [],
   "source": [
    "cat = catname_from_path()\n",
    "db = dbname(db=\"taxinycbots\", cat=cat)\n",
    "print(\"New db name: \" + db)\n",
    "spark.sql(f\"USE catalog {cat}\")\n",
    "spark.sql(f\"CREATE DATABASE IF NOT EXISTS {db}\")"
   ]
  },
  {
   "cell_type": "markdown",
   "metadata": {
    "application/vnd.databricks.v1+cell": {
     "cellMetadata": {
      "byteLimit": 2048000,
      "rowLimit": 10000
     },
     "inputWidgets": {},
     "nuid": "386b3c69-a200-49fb-af54-4839e41a49b6",
     "showTitle": false,
     "tableResultSettingsMap": {},
     "title": ""
    }
   },
   "source": [
    "#### Study the brickops configuration\n",
    "\n",
    "The function `dbname()` creates the dbname according to the naming configuration.\n",
    "You can find it in the repo root in `.brickopscfg/config.yml`.\n",
    "It defines how naming is derived from the folder position and environment."
   ]
  },
  {
   "cell_type": "markdown",
   "metadata": {
    "application/vnd.databricks.v1+cell": {
     "cellMetadata": {
      "byteLimit": 2048000,
      "rowLimit": 10000
     },
     "inputWidgets": {},
     "nuid": "e95e2f74-6d66-4c71-ba4a-4fefde95d8a0",
     "showTitle": false,
     "tableResultSettingsMap": {},
     "title": ""
    }
   },
   "source": [
    "#### Task: Why is model path not `transport.taxinycbots.tripbot`?\n",
    "\n",
    "Why should we deploy the test model to another path than `transport.taxinycbots.tripbot`?\n",
    "Reply in the field below."
   ]
  },
  {
   "cell_type": "markdown",
   "metadata": {
    "application/vnd.databricks.v1+cell": {
     "cellMetadata": {
      "byteLimit": 2048000,
      "rowLimit": 10000
     },
     "inputWidgets": {},
     "nuid": "e57b06a2-ad4b-4ad5-b532-14394fd82c98",
     "showTitle": false,
     "tableResultSettingsMap": {},
     "title": ""
    }
   },
   "source": [
    "To make sure that the path is unique in a shared catalog"
   ]
  },
  {
   "cell_type": "markdown",
   "metadata": {
    "application/vnd.databricks.v1+cell": {
     "cellMetadata": {
      "byteLimit": 2048000,
      "rowLimit": 10000
     },
     "inputWidgets": {},
     "nuid": "aa017d4e-ab8e-4fc6-a933-858b33f3ece4",
     "showTitle": false,
     "tableResultSettingsMap": {},
     "title": ""
    }
   },
   "source": [
    "#### Register the model\n",
    "\n",
    "Register the model un Unity catalog"
   ]
  },
  {
   "cell_type": "code",
   "execution_count": 0,
   "metadata": {
    "application/vnd.databricks.v1+cell": {
     "cellMetadata": {
      "byteLimit": 2048000,
      "rowLimit": 10000
     },
     "inputWidgets": {},
     "nuid": "30e6f590-9b9a-45a3-a5df-ed5412db2cbe",
     "showTitle": false,
     "tableResultSettingsMap": {},
     "title": ""
    }
   },
   "outputs": [],
   "source": [
    "mlflow.set_registry_uri(\"databricks-uc\")\n",
    "\n",
    "# TODO: define the catalog, schema, and model name for your UC model\n",
    "# catalog = \"training\"\n",
    "# schema = \"testagents\"\n",
    "UC_MODEL_NAME = f\"{db}.{BOT_NAME}\"\n",
    "\n",
    "model_uri = f\"runs:/{TRIPBOT_RUN_ID}/{BOT_NAME}\"\n",
    "# register the model to UC\n",
    "uc_registered_model_info = mlflow.register_model(\n",
    "    model_uri=model_uri, \n",
    "    name=UC_MODEL_NAME,\n",
    "    env_pack=\"databricks_model_serving\",  # faster deployment\n",
    ")"
   ]
  },
  {
   "cell_type": "code",
   "execution_count": 0,
   "metadata": {
    "application/vnd.databricks.v1+cell": {
     "cellMetadata": {
      "byteLimit": 2048000,
      "rowLimit": 10000
     },
     "inputWidgets": {},
     "nuid": "5aeb6aa3-e941-47d5-a144-b531f9102e03",
     "showTitle": false,
     "tableResultSettingsMap": {},
     "title": ""
    }
   },
   "outputs": [],
   "source": [
    "%sh pip list | grep mlflow"
   ]
  },
  {
   "cell_type": "code",
   "execution_count": 0,
   "metadata": {
    "application/vnd.databricks.v1+cell": {
     "cellMetadata": {
      "byteLimit": 2048000,
      "rowLimit": 10000
     },
     "inputWidgets": {},
     "nuid": "82aca13c-4b13-4983-8bda-5434363eaf9c",
     "showTitle": false,
     "tableResultSettingsMap": {},
     "title": ""
    }
   },
   "outputs": [],
   "source": [
    "# Show the model info\n",
    "uc_registered_model_info"
   ]
  },
  {
   "cell_type": "code",
   "execution_count": 0,
   "metadata": {
    "application/vnd.databricks.v1+cell": {
     "cellMetadata": {
      "byteLimit": 2048000,
      "rowLimit": 10000
     },
     "inputWidgets": {},
     "nuid": "e130c6d5-73ec-4ef0-8348-bfb06f0bfd61",
     "showTitle": false,
     "tableResultSettingsMap": {},
     "title": ""
    }
   },
   "outputs": [],
   "source": [
    "# Print current version\n",
    "uc_registered_model_info.version"
   ]
  },
  {
   "cell_type": "markdown",
   "metadata": {
    "application/vnd.databricks.v1+cell": {
     "cellMetadata": {
      "byteLimit": 2048000,
      "rowLimit": 10000
     },
     "inputWidgets": {},
     "nuid": "1872a6e8-3528-49b7-98cd-e8d9267589d8",
     "showTitle": false,
     "tableResultSettingsMap": {},
     "title": ""
    }
   },
   "source": [
    "## Deploy the model\n",
    "\n",
    "It can take up to 15m for the model to go live.\n",
    "\n",
    "You can ignore the following error:\n",
    "\n",
    "```\n",
    "409 Client Error: Conflict\n",
    "{\"error_code\":\"ALREADY_EXISTS\",\"message\":\"Error [f126207b-45d1-4b65-9806-1dafbf7eaa6e]: \n",
    "A monitor for experiment d77f45d... already exists. \n",
    "Set the experiment_id parameter to create a monitor for a different experiment.\",\n",
    "\"details\":[{\"@type\":\"type.googleapis.com/google.rpc.RequestInfo\",\n",
    "\"request_id\":\"f126207b-45d1-4b65-9806-1dafbf7eaa6e\",\"serving_data\":\"\"}]}. \n",
    "```\n",
    "\n",
    "The existing monitor will be reused."
   ]
  },
  {
   "cell_type": "code",
   "execution_count": 0,
   "metadata": {
    "application/vnd.databricks.v1+cell": {
     "cellMetadata": {
      "byteLimit": 2048000,
      "rowLimit": 10000
     },
     "inputWidgets": {},
     "nuid": "9727423f-b50b-440f-bb26-4b23b78dc35d",
     "showTitle": false,
     "tableResultSettingsMap": {},
     "title": ""
    }
   },
   "outputs": [],
   "source": [
    "from databricks import agents\n",
    "agents.deploy(\n",
    "    UC_MODEL_NAME,\n",
    "    uc_registered_model_info.version,\n",
    "    tags = {\"endpointSource\": \"docs\"},\n",
    "    environment_vars=BOTOPS_ENV_VARS,\n",
    "    scale_to_zero_enabled=True,\n",
    ")"
   ]
  },
  {
   "cell_type": "markdown",
   "metadata": {
    "application/vnd.databricks.v1+cell": {
     "cellMetadata": {
      "byteLimit": 2048000,
      "rowLimit": 10000
     },
     "inputWidgets": {},
     "nuid": "0b5d23f8-acaa-45f4-bb79-f74884a7f854",
     "showTitle": false,
     "tableResultSettingsMap": {},
     "title": ""
    }
   },
   "source": [
    "## Task: Explore the View Status, Review app and Monitor links above\n",
    "\n",
    "What is the purpose of each of these? Answer below."
   ]
  },
  {
   "cell_type": "markdown",
   "metadata": {
    "application/vnd.databricks.v1+cell": {
     "cellMetadata": {
      "byteLimit": 2048000,
      "rowLimit": 10000
     },
     "inputWidgets": {},
     "nuid": "78e8d9b2-250e-4510-8b1b-79be588cd141",
     "showTitle": false,
     "tableResultSettingsMap": {},
     "title": ""
    }
   },
   "source": [
    "View status - Show status of the deployed app\n",
    "\n",
    "Review app - Interact with deployed app \n",
    "\n",
    "Monitor - Show runtime information on the deployed app"
   ]
  },
  {
   "cell_type": "markdown",
   "metadata": {
    "application/vnd.databricks.v1+cell": {
     "cellMetadata": {
      "byteLimit": 2048000,
      "rowLimit": 10000
     },
     "inputWidgets": {},
     "nuid": "ef28a8f4-0a5d-49e6-bf03-4ef0417ed344",
     "showTitle": false,
     "tableResultSettingsMap": {},
     "title": ""
    }
   },
   "source": [
    "## Next steps\n",
    "\n",
    "After your agent is deployed, you could chat with it in AI playground to perform additional checks, share it with SMEs in your organization for feedback, or embed it in a production application. See docs ([AWS](https://docs.databricks.com/en/generative-ai/deploy-agent.html) | [Azure](https://learn.microsoft.com/en-us/azure/databricks/generative-ai/deploy-agent)) for details"
   ]
  },
  {
   "cell_type": "markdown",
   "metadata": {
    "application/vnd.databricks.v1+cell": {
     "cellMetadata": {
      "byteLimit": 2048000,
      "rowLimit": 10000
     },
     "inputWidgets": {},
     "nuid": "1e062ede-62a5-4a89-bc70-5db51d3a16eb",
     "showTitle": false,
     "tableResultSettingsMap": {},
     "title": ""
    }
   },
   "source": [
    "## Task: Query your deployed endpoint\n",
    "\n",
    "Go to the `View status` link, e.g. [https://dbc-639f4875-165d.cloud.databricks.com/ml/endpoints/agents_transport-test_paldevibe_featgh1030assis_425a3d3a_taxiny](https://dbc-639f4875-165d.cloud.databricks.com/ml/endpoints/agents_transport-test_paldevibe_featgh1030assis_425a3d3a_taxiny), and press Use array -> Query, and as request use:\n",
    "\n",
    "```\n",
    "{\"messages\": [{\"role\": \"user\", \"content\": \"Which borough has most traffic?\"}]}\n",
    "```\n",
    "\n",
    "![query_endpoint](https://raw.githubusercontent.com/brickops/databricks-botops-course/refs/heads/main/images/query_endpoint.png)"
   ]
  },
  {
   "cell_type": "markdown",
   "metadata": {
    "application/vnd.databricks.v1+cell": {
     "cellMetadata": {
      "byteLimit": 2048000,
      "rowLimit": 10000
     },
     "inputWidgets": {},
     "nuid": "b6cdabb7-08eb-4d81-b301-e8fad48a0b40",
     "showTitle": false,
     "tableResultSettingsMap": {},
     "title": ""
    }
   },
   "source": [
    "## Task: Chat with the deployed test bot\n",
    "\n",
    "...and figure out where the feedback ends up. You can find an already working [review bot app here](https://dbc-639f4875-165d.cloud.databricks.com/ml/review-v2/chat?endpoint=agents_transport-test_paldevibe_featgh1030assis_425a3d3a_taxiny&o=3132861941250972).\n",
    "\n",
    "The first message you should send is just \"Hello\". Note the Feedback functionality in the review app, like thumbs up and thumbs down.\n",
    "\n",
    "In some versions of Agents deployment you might get the Error \"Received an invalid and unexpected value from the API\" when asking about the taxi data. We are working on fixing this problem, which has occurred in a newer version of the agents deployment service."
   ]
  },
  {
   "cell_type": "code",
   "execution_count": 0,
   "metadata": {
    "application/vnd.databricks.v1+cell": {
     "cellMetadata": {
      "byteLimit": 2048000,
      "rowLimit": 10000
     },
     "inputWidgets": {},
     "nuid": "8479f807-df88-4da4-82b0-aba1f4a831c9",
     "showTitle": false,
     "tableResultSettingsMap": {},
     "title": ""
    }
   },
   "outputs": [],
   "source": []
  }
 ],
 "metadata": {
  "application/vnd.databricks.v1+notebook": {
   "computePreferences": {
    "hardware": {
     "accelerator": null,
     "gpuPoolId": null,
     "memory": null
    }
   },
   "dashboards": [],
   "environmentMetadata": {
    "base_environment": "",
    "environment_version": "3"
   },
   "inputWidgetPreferences": null,
   "language": "python",
   "notebookMetadata": {
    "mostRecentlyExecutedCommandWithImplicitDF": {
<<<<<<< Updated upstream
     "commandId": 5451191609258607,
=======
     "commandId": 5451191609262760,
>>>>>>> Stashed changes
     "dataframes": [
      "_sqldf"
     ]
    },
    "pythonIndentUnit": 4
   },
   "notebookName": "03_deploy_test_bot",
   "widgets": {}
  },
  "language_info": {
   "name": "python"
  }
 },
 "nbformat": 4,
 "nbformat_minor": 0
}
